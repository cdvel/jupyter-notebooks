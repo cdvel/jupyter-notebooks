{
 "cells": [
  {
   "cell_type": "markdown",
   "metadata": {},
   "source": [
    "### Feature Selection for ML\n",
    "\n",
    "Chosen features to train your model have a huge impact on performance. Only highly relevant features should be used to train your models. There are automatic feature selection techniques to help in this step:\n",
    "\n",
    "- Univariate Selection\n",
    "- Recursive Feature Elimination\n",
    "- Principle Component Analysis\n",
    "- Feature Importance"
   ]
  },
  {
   "cell_type": "markdown",
   "metadata": {},
   "source": [
    "#### Feature selection\n",
    "\n",
    "- Automatic\n",
    "- Selection process of features that contribute the most to the prediction or output of interest\n",
    "- Irrelevant features are harmful, specially to linear algorithms (linear and logistic regression)\n",
    "\n",
    "Benefits\n",
    "\n",
    "* Reduce overfitting\n",
    "\n",
    "Less redundant data, less decisions based on noise\n",
    "\n",
    "* Improves accuracy\n",
    "\n",
    "Less misleading data, better accuracy\n",
    "\n",
    "* Reduce training time\n",
    "\n",
    "Less data, training is faster\n",
    "\n",
    "More info: http://scikit-learn.org/stable/modules/feature_selection.html"
   ]
  },
  {
   "cell_type": "markdown",
   "metadata": {},
   "source": [
    "##### Univariate feature selection\n",
    "\n",
    "Use (subset) statistical tests to select features strongly related to the output variable. For example, chi-squared for non-negative features to select 4 of the best features (example below)\n",
    "\n",
    "\n",
    "Using scikit-learn's `SelectKBest` class: "
   ]
  },
  {
   "cell_type": "code",
   "execution_count": 27,
   "metadata": {
    "collapsed": false,
    "scrolled": true
   },
   "outputs": [
    {
     "name": "stdout",
     "output_type": "stream",
     "text": [
      "['preg', 'plas', 'pres', 'skin', 'test', 'mass', 'pedi', 'age', 'class']\n",
      "[  111.52   1411.887    17.605    53.108  2175.565   127.669     5.393\n",
      "   181.304]\n",
      "[[ 148.     0.    33.6   50. ]\n",
      " [  85.     0.    26.6   31. ]\n",
      " [ 183.     0.    23.3   32. ]\n",
      " [  89.    94.    28.1   21. ]\n",
      " [ 137.   168.    43.1   33. ]]\n",
      "\n",
      "Top features:  test mass pedi age\n"
     ]
    }
   ],
   "source": [
    "#feature extraction with Univariate Statistical Tests (Chi-squared for classification)\n",
    "\n",
    "from pandas import read_csv\n",
    "from numpy import set_printoptions\n",
    "\n",
    "from sklearn.feature_selection import SelectKBest\n",
    "from sklearn.feature_selection import chi2\n",
    "\n",
    "url = 'https://archive.ics.uci.edu/ml/machine-learning-databases/pima-indians-diabetes/pima-indians-diabetes.data'\n",
    "names = ['preg', 'plas', 'pres', 'skin', 'test', 'mass', 'pedi', 'age', 'class']\n",
    "dataframe = read_csv(url, names=names)\n",
    "array = dataframe.values\n",
    "X = array[:,0:8]\n",
    "Y = array[:,8]\n",
    "\n",
    "print names\n",
    "# Feature extraction\n",
    "test = SelectKBest(score_func=chi2, k=4)\n",
    "fit = test.fit(X, Y)\n",
    "#Summarize scores\n",
    "set_printoptions(precision=3)\n",
    "fscore = fit.scores_\n",
    "print(fit.scores_)\n",
    "features = fit.transform(X)\n",
    "\n",
    "#Summarize selected features\n",
    "print features[0:5, :]\n",
    "\n",
    "# top 4 attributes\n",
    "topIndex = [sorted(range(len(fscore)), key=lambda i: i)[-4:]][0]\n",
    "\n",
    "print '\\nTop features: ', \n",
    "for t in topIndex:\n",
    "    print names[t],\n"
   ]
  },
  {
   "cell_type": "code",
   "execution_count": null,
   "metadata": {
    "collapsed": true
   },
   "outputs": [],
   "source": []
  }
 ],
 "metadata": {
  "anaconda-cloud": {},
  "kernelspec": {
   "display_name": "Python [conda root]",
   "language": "python",
   "name": "conda-root-py"
  },
  "language_info": {
   "codemirror_mode": {
    "name": "ipython",
    "version": 2
   },
   "file_extension": ".py",
   "mimetype": "text/x-python",
   "name": "python",
   "nbconvert_exporter": "python",
   "pygments_lexer": "ipython2",
   "version": "2.7.12"
  }
 },
 "nbformat": 4,
 "nbformat_minor": 1
}
